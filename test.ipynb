{
 "cells": [
  {
   "cell_type": "code",
   "execution_count": 1,
   "metadata": {},
   "outputs": [
    {
     "name": "stderr",
     "output_type": "stream",
     "text": [
      "c:\\Users\\jangj\\Anaconda3\\envs\\ven\\Lib\\site-packages\\sentence_transformers\\cross_encoder\\CrossEncoder.py:11: TqdmWarning: IProgress not found. Please update jupyter and ipywidgets. See https://ipywidgets.readthedocs.io/en/stable/user_install.html\n",
      "  from tqdm.autonotebook import tqdm, trange\n"
     ]
    },
    {
     "name": "stdout",
     "output_type": "stream",
     "text": [
      "RAG에 들어갈 모든 데이터는 files에 담아주세요.\n",
      "\n",
      "\n",
      "\n",
      "files\\23-24풋살경기규칙.pdf split 진행 중\n"
     ]
    },
    {
     "name": "stderr",
     "output_type": "stream",
     "text": [
      "Created a chunk of size 1071, which is longer than the specified 1000\n",
      "Created a chunk of size 1457, which is longer than the specified 1000\n",
      "Created a chunk of size 1138, which is longer than the specified 1000\n",
      "Created a chunk of size 1574, which is longer than the specified 1000\n",
      "Created a chunk of size 1578, which is longer than the specified 1000\n",
      "Created a chunk of size 1450, which is longer than the specified 1000\n",
      "Created a chunk of size 1560, which is longer than the specified 1000\n",
      "Created a chunk of size 1043, which is longer than the specified 1000\n",
      "Created a chunk of size 1089, which is longer than the specified 1000\n",
      "c:\\Users\\jangj\\Anaconda3\\envs\\ven\\Lib\\site-packages\\langchain_core\\_api\\deprecation.py:139: LangChainDeprecationWarning: The class `HuggingFaceEmbeddings` was deprecated in LangChain 0.2.2 and will be removed in 0.3.0. An updated version of the class exists in the langchain-huggingface package and should be used instead. To use it run `pip install -U langchain-huggingface` and import as `from langchain_huggingface import HuggingFaceEmbeddings`.\n",
      "  warn_deprecated(\n"
     ]
    },
    {
     "name": "stdout",
     "output_type": "stream",
     "text": [
      "files\\23-24풋살경기규칙.pdf split 진행 완료. \n",
      "files\\23-24풋살경기규칙.pdf split 갯수 : 209\n",
      "files\\FAQ_수정.csv split 진행 중\n",
      "files\\FAQ_수정.csv split 진행 완료. \n",
      "files\\FAQ_수정.csv split 갯수 : 25\n",
      "files\\구장정보데이터.csv split 진행 중\n",
      "files\\구장정보데이터.csv split 진행 완료. \n",
      "files\\구장정보데이터.csv split 갯수 : 644\n",
      "files\\풋살역사20개.csv split 진행 중\n",
      "files\\풋살역사20개.csv split 진행 완료. \n",
      "files\\풋살역사20개.csv split 갯수 : 20\n"
     ]
    },
    {
     "name": "stderr",
     "output_type": "stream",
     "text": [
      "No sentence-transformers model found with name BM-K/KoSimCSE-roberta-multitask. Creating a new one with mean pooling.\n",
      "c:\\Users\\jangj\\Anaconda3\\envs\\ven\\Lib\\site-packages\\huggingface_hub\\file_download.py:1132: FutureWarning: `resume_download` is deprecated and will be removed in version 1.0.0. Downloads always resume when possible. If you want to force a new download, use `force_download=True`.\n",
      "  warnings.warn(\n"
     ]
    },
    {
     "name": "stdout",
     "output_type": "stream",
     "text": [
      "Vector DB 초기화. Index_name = futsalchat\n",
      "기존 인덱스 삭제완료\n",
      "Vector DB 들어가는 중. Index_name = futsalchat\n",
      "저장 완료\n",
      "Query: 규정에 대해서 설명해줘\n",
      "찾은 문장1: : 12\n",
      "Question: 환불규정을 알고 싶어요.\n",
      "Andswer: 환불 규정 확인은 다음과 같이 가능합니다.\n",
      "- PC\n",
      "1) 사이트 접속\n",
      "2) 구장 선택 (예약 버튼 클릭)\n",
      "3) 아래 환불규정, 변경규정 확인하기\n",
      "- 모바일\n",
      "1) 사이트 혹은 앱 접속\n",
      "2) 구장 선택\n",
      "3) 구장 사진 클릭\n",
      "4) 아래 환불 및 변경 규정 확인하기\n",
      "찾은 문장2: •풋살경기규칙을시행한다.\n",
      "•해당되는경우,다른심판진들과협력하여경기를관리한다. \n",
      "•사용되는볼이규칙2의요구조건에적합한지확인한다.\n",
      "•선수의장비가규칙4의요구조건에적합한지확인한다.\n",
      "•경기사건을기록한다.\n",
      "•풋살경기규칙의어떤반칙에대하여, 주심들의재량에따라경기를중단한다.\n"
     ]
    }
   ],
   "source": [
    "from pack.load_push import all_files\n",
    "from pack.retriever import *\n",
    "from pack.retrieve_docs import *\n",
    "from pack.make_chain import *\n",
    "from pack.make_answer import *\n",
    "\n",
    "Vectorstore = all_files('files')\n",
    "retriever=retriever(Vectorstore)\n",
    "print_search_results(retriever, '규정에 대해서 설명해줘')\n",
    "rag_chain = make_chain(retriever)"
   ]
  },
  {
   "cell_type": "code",
   "execution_count": 3,
   "metadata": {},
   "outputs": [
    {
     "name": "stdout",
     "output_type": "stream",
     "text": [
      "[풋풋이의 답변]\n",
      "`\"\"` 이전으로는 사용되지 않았던 표기법을 보고하는 것입니다. 예를 들어, `-` 대신에 `--` 와 같은 표기법이 있었습니다. 즉, `\"\"` 는 중복된 부호가 아닌 단순히 과거의 사용된 방식을 나타내는 것입니다.\n",
      "얼마든지 물어보세요! 풋풋~!\n"
     ]
    }
   ],
   "source": [
    "from pack.make_answer import *\n",
    "Query = '규정에 대해서 설명해줘'\n",
    "result(rag_chain,Query)"
   ]
  },
  {
   "cell_type": "markdown",
   "metadata": {},
   "source": [
    "### 방향\n",
    "\n",
    "\n"
   ]
  },
  {
   "cell_type": "code",
   "execution_count": null,
   "metadata": {},
   "outputs": [],
   "source": [
    "# VSCode 상에서 끝낼 내용\n",
    "\n",
    "## retrieval 설정\n",
    "\n",
    "## 모델은 ollama 말고 unsloth 혹은 AutoModelForCausalLm\n",
    "\n",
    "## pipeline 생성과정 필요\n",
    "## chain에 붙이는 과정 필요\n",
    "\n",
    "# 상세 설명\n",
    "\n",
    "# pack / load_push : 서버 실행시 files에 들어있는 파일을 벡터 db에 넣어줄 것이며 모델 불러온 뒤 진행\n",
    "# pack / load_model : 모델 불러오기 함수이다. 불러와서 pipeline형태로 변환 및 chain과 연결할것이다.\n",
    "\n",
    "\n",
    "### 최종 :  retrieval과 qustion이 들어오면 response를 내보내는 def  --> FastAPI 상에서 사용할 것"
   ]
  }
 ],
 "metadata": {
  "kernelspec": {
   "display_name": "llm",
   "language": "python",
   "name": "python3"
  },
  "language_info": {
   "codemirror_mode": {
    "name": "ipython",
    "version": 3
   },
   "file_extension": ".py",
   "mimetype": "text/x-python",
   "name": "python",
   "nbconvert_exporter": "python",
   "pygments_lexer": "ipython3",
   "version": "3.11.9"
  }
 },
 "nbformat": 4,
 "nbformat_minor": 2
}
