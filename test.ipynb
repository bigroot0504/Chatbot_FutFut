{
 "cells": [
  {
   "cell_type": "code",
   "execution_count": 1,
   "metadata": {},
   "outputs": [
    {
     "ename": "ModuleNotFoundError",
     "evalue": "No module named 'pack.load_push_t3'",
     "output_type": "error",
     "traceback": [
      "\u001b[1;31m---------------------------------------------------------------------------\u001b[0m",
      "\u001b[1;31mModuleNotFoundError\u001b[0m                       Traceback (most recent call last)",
      "Cell \u001b[1;32mIn[1], line 1\u001b[0m\n\u001b[1;32m----> 1\u001b[0m \u001b[38;5;28;01mfrom\u001b[39;00m \u001b[38;5;21;01mpack\u001b[39;00m\u001b[38;5;21;01m.\u001b[39;00m\u001b[38;5;21;01mload_push_t3\u001b[39;00m \u001b[38;5;28;01mimport\u001b[39;00m all_files\n\u001b[0;32m      2\u001b[0m \u001b[38;5;28;01mfrom\u001b[39;00m \u001b[38;5;21;01mpack\u001b[39;00m\u001b[38;5;21;01m.\u001b[39;00m\u001b[38;5;21;01mretriever\u001b[39;00m \u001b[38;5;28;01mimport\u001b[39;00m \u001b[38;5;241m*\u001b[39m\n\u001b[0;32m      3\u001b[0m \u001b[38;5;28;01mfrom\u001b[39;00m \u001b[38;5;21;01mpack\u001b[39;00m\u001b[38;5;21;01m.\u001b[39;00m\u001b[38;5;21;01mretrieve_docs\u001b[39;00m \u001b[38;5;28;01mimport\u001b[39;00m \u001b[38;5;241m*\u001b[39m\n",
      "\u001b[1;31mModuleNotFoundError\u001b[0m: No module named 'pack.load_push_t3'"
     ]
    }
   ],
   "source": [
    "from pack.load_push_t3 import all_files\n",
    "from pack.retriever import *\n",
    "from pack.retrieve_docs import *\n",
    "from pack.make_chain import *\n",
    "from pack.make_answer import *\n",
    "\n",
    "embedding_model = all_files('files')\n",
    "retriever=retriever(embedding_model)\n",
    "print_search_results(retriever, '규정에 대해서 설명해줘')\n",
    "rag_chain = make_chain(retriever)"
   ]
  },
  {
   "cell_type": "code",
   "execution_count": 2,
   "metadata": {},
   "outputs": [
    {
     "name": "stderr",
     "output_type": "stream",
     "text": [
      "No sentence-transformers model found with name BM-K/KoSimCSE-roberta-multitask. Creating a new one with mean pooling.\n"
     ]
    }
   ],
   "source": [
    "from pack.retriever import *\n",
    "retriever=retriever()"
   ]
  },
  {
   "cell_type": "code",
   "execution_count": 6,
   "metadata": {},
   "outputs": [
    {
     "name": "stdout",
     "output_type": "stream",
     "text": [
      "Query: 규정에 대해서 설명해줘\n",
      "찾은 문장1: : 12\n",
      "Question: 환불규정을 알고 싶어요.\n",
      "Andswer: 환불 규정 확인은 다음과 같이 가능합니다.\n",
      "- PC\n",
      "1) 사이트 접속\n",
      "2) 구장 선택 (예약 버튼 클릭)\n",
      "3) 아래 환불규정, 변경규정 확인하기\n",
      "- 모바일\n",
      "1) 사이트 혹은 앱 접속\n",
      "2) 구장 선택\n",
      "3) 구장 사진 클릭\n",
      "4) 아래 환불 및 변경 규정 확인하기\n",
      "찾은 문장2: •풋살경기규칙을시행한다.\n",
      "•해당되는경우,다른심판진들과협력하여경기를관리한다. \n",
      "•사용되는볼이규칙2의요구조건에적합한지확인한다.\n",
      "•선수의장비가규칙4의요구조건에적합한지확인한다.\n",
      "•경기사건을기록한다.\n",
      "•풋살경기규칙의어떤반칙에대하여, 주심들의재량에따라경기를중단한다.\n"
     ]
    }
   ],
   "source": [
    "from pack.retrieve_docs import *\n",
    "print_search_results(retriever, '규정에 대해서 설명해줘')"
   ]
  },
  {
   "cell_type": "code",
   "execution_count": 4,
   "metadata": {},
   "outputs": [],
   "source": [
    "from pack.make_chain import *\n",
    "rag_chain = make_chain(retriever)"
   ]
  },
  {
   "cell_type": "code",
   "execution_count": 5,
   "metadata": {},
   "outputs": [
    {
     "name": "stdout",
     "output_type": "stream",
     "text": [
      "[풋풋이의 답변]\n",
      "풋살경기 중에는 특정 상황에 맞는 반칙을 적용하여 경기를 진행해야 합니다. 예로는 필드 내의 구장과 선수들의 장비가 규칙4의 요구조건에 맞추어서 있을 것입니다.\n",
      "얼마든지 물어보세요! 풋풋~!\n"
     ]
    }
   ],
   "source": [
    "from pack.make_answer import *\n",
    "result(rag_chain)"
   ]
  },
  {
   "cell_type": "code",
   "execution_count": null,
   "metadata": {},
   "outputs": [],
   "source": []
  }
 ],
 "metadata": {
  "kernelspec": {
   "display_name": "llm",
   "language": "python",
   "name": "python3"
  },
  "language_info": {
   "codemirror_mode": {
    "name": "ipython",
    "version": 3
   },
   "file_extension": ".py",
   "mimetype": "text/x-python",
   "name": "python",
   "nbconvert_exporter": "python",
   "pygments_lexer": "ipython3",
   "version": "3.10.14"
  }
 },
 "nbformat": 4,
 "nbformat_minor": 2
}
